{
 "cells": [
  {
   "cell_type": "code",
   "execution_count": 2,
   "metadata": {},
   "outputs": [],
   "source": [
    "import pandas as pd\n",
    "import numpy as np"
   ]
  },
  {
   "cell_type": "code",
   "execution_count": 23,
   "metadata": {},
   "outputs": [],
   "source": [
    "# Read the csv file and convert to a data frame --> Data prep\n",
    "csv_file = pd.read_csv(\"SalesbyHour.csv\")\n",
    "df = pd.DataFrame(csv_file)"
   ]
  },
  {
   "cell_type": "code",
   "execution_count": 40,
   "metadata": {},
   "outputs": [
    {
     "data": {
      "text/html": [
       "<div>\n",
       "<style scoped>\n",
       "    .dataframe tbody tr th:only-of-type {\n",
       "        vertical-align: middle;\n",
       "    }\n",
       "\n",
       "    .dataframe tbody tr th {\n",
       "        vertical-align: top;\n",
       "    }\n",
       "\n",
       "    .dataframe thead th {\n",
       "        text-align: right;\n",
       "    }\n",
       "</style>\n",
       "<table border=\"1\" class=\"dataframe\">\n",
       "  <thead>\n",
       "    <tr style=\"text-align: right;\">\n",
       "      <th></th>\n",
       "      <th>Store_ID</th>\n",
       "      <th>Fiscal_Qtr</th>\n",
       "      <th>DateStringYYYYMMDD</th>\n",
       "      <th>Fiscal_dayofWk</th>\n",
       "      <th>Daypart</th>\n",
       "      <th>HourlyWeather</th>\n",
       "      <th>Hour</th>\n",
       "      <th>AvgHourlyTemp</th>\n",
       "      <th>SalesRevenue</th>\n",
       "    </tr>\n",
       "  </thead>\n",
       "  <tbody>\n",
       "    <tr>\n",
       "      <th>0</th>\n",
       "      <td>2</td>\n",
       "      <td>3</td>\n",
       "      <td>20170714</td>\n",
       "      <td>5</td>\n",
       "      <td>Afternoon</td>\n",
       "      <td>rain</td>\n",
       "      <td>16</td>\n",
       "      <td>92.43</td>\n",
       "      <td>193.44</td>\n",
       "    </tr>\n",
       "    <tr>\n",
       "      <th>1</th>\n",
       "      <td>2</td>\n",
       "      <td>3</td>\n",
       "      <td>20170714</td>\n",
       "      <td>5</td>\n",
       "      <td>Afternoon</td>\n",
       "      <td>rain</td>\n",
       "      <td>14</td>\n",
       "      <td>89.56</td>\n",
       "      <td>323.84</td>\n",
       "    </tr>\n",
       "    <tr>\n",
       "      <th>2</th>\n",
       "      <td>2</td>\n",
       "      <td>3</td>\n",
       "      <td>20170714</td>\n",
       "      <td>5</td>\n",
       "      <td>Afternoon</td>\n",
       "      <td>rain</td>\n",
       "      <td>15</td>\n",
       "      <td>90.90</td>\n",
       "      <td>126.09</td>\n",
       "    </tr>\n",
       "    <tr>\n",
       "      <th>3</th>\n",
       "      <td>2</td>\n",
       "      <td>3</td>\n",
       "      <td>20170714</td>\n",
       "      <td>5</td>\n",
       "      <td>Breakfast</td>\n",
       "      <td>fog</td>\n",
       "      <td>8</td>\n",
       "      <td>77.35</td>\n",
       "      <td>154.54</td>\n",
       "    </tr>\n",
       "    <tr>\n",
       "      <th>4</th>\n",
       "      <td>2</td>\n",
       "      <td>3</td>\n",
       "      <td>20170714</td>\n",
       "      <td>5</td>\n",
       "      <td>Breakfast</td>\n",
       "      <td>partly-cloudy-day</td>\n",
       "      <td>9</td>\n",
       "      <td>79.06</td>\n",
       "      <td>89.60</td>\n",
       "    </tr>\n",
       "  </tbody>\n",
       "</table>\n",
       "</div>"
      ],
      "text/plain": [
       "  Store_ID Fiscal_Qtr  DateStringYYYYMMDD Fiscal_dayofWk    Daypart  \\\n",
       "0        2          3            20170714              5  Afternoon   \n",
       "1        2          3            20170714              5  Afternoon   \n",
       "2        2          3            20170714              5  Afternoon   \n",
       "3        2          3            20170714              5  Breakfast   \n",
       "4        2          3            20170714              5  Breakfast   \n",
       "\n",
       "       HourlyWeather Hour  AvgHourlyTemp  SalesRevenue  \n",
       "0               rain   16          92.43        193.44  \n",
       "1               rain   14          89.56        323.84  \n",
       "2               rain   15          90.90        126.09  \n",
       "3                fog    8          77.35        154.54  \n",
       "4  partly-cloudy-day    9          79.06         89.60  "
      ]
     },
     "execution_count": 40,
     "metadata": {},
     "output_type": "execute_result"
    }
   ],
   "source": [
    "df.head()\n"
   ]
  },
  {
   "cell_type": "code",
   "execution_count": 41,
   "metadata": {},
   "outputs": [
    {
     "name": "stdout",
     "output_type": "stream",
     "text": [
      "<class 'pandas.core.frame.DataFrame'>\n",
      "RangeIndex: 125792 entries, 0 to 125791\n",
      "Data columns (total 9 columns):\n",
      "Store_ID              125792 non-null category\n",
      "Fiscal_Qtr            125792 non-null category\n",
      "DateStringYYYYMMDD    125792 non-null int64\n",
      "Fiscal_dayofWk        125792 non-null category\n",
      "Daypart               125792 non-null category\n",
      "HourlyWeather         125792 non-null category\n",
      "Hour                  125792 non-null category\n",
      "AvgHourlyTemp         125792 non-null float64\n",
      "SalesRevenue          125792 non-null float64\n",
      "dtypes: category(6), float64(2), int64(1)\n",
      "memory usage: 3.6 MB\n",
      "None\n"
     ]
    }
   ],
   "source": [
    "print(df.info())"
   ]
  },
  {
   "cell_type": "code",
   "execution_count": 55,
   "metadata": {},
   "outputs": [],
   "source": [
    "# Typecasting categorical variables\n",
    "df['Daypart'] = df['Daypart'].astype('category')\n",
    "df['HourlyWeather'] = df['HourlyWeather'].astype('category')\n",
    "df['Hour'] = df['Hour'].astype('category')\n",
    "df['Store_ID'] = df['Store_ID'].astype('category')\n",
    "df['Fiscal_Qtr'] = df['Fiscal_Qtr'].astype('category')\n",
    "df['DateStringYYYYMMDD'] = df['DateStringYYYYMMDD'].astype('category')\n",
    "df['Fiscal_dayofWk'] = df['Fiscal_dayofWk'].astype('category')"
   ]
  },
  {
   "cell_type": "code",
   "execution_count": 56,
   "metadata": {},
   "outputs": [
    {
     "name": "stdout",
     "output_type": "stream",
     "text": [
      "<class 'pandas.core.frame.DataFrame'>\n",
      "RangeIndex: 125792 entries, 0 to 125791\n",
      "Data columns (total 9 columns):\n",
      "Store_ID              125792 non-null category\n",
      "Fiscal_Qtr            125792 non-null category\n",
      "DateStringYYYYMMDD    125792 non-null category\n",
      "Fiscal_dayofWk        125792 non-null category\n",
      "Daypart               125792 non-null category\n",
      "HourlyWeather         125792 non-null category\n",
      "Hour                  125792 non-null category\n",
      "AvgHourlyTemp         125792 non-null float64\n",
      "SalesRevenue          125792 non-null float64\n",
      "dtypes: category(7), float64(2)\n",
      "memory usage: 2.9 MB\n"
     ]
    }
   ],
   "source": [
    "df.info()"
   ]
  },
  {
   "cell_type": "code",
   "execution_count": 57,
   "metadata": {},
   "outputs": [
    {
     "data": {
      "text/html": [
       "<div>\n",
       "<style scoped>\n",
       "    .dataframe tbody tr th:only-of-type {\n",
       "        vertical-align: middle;\n",
       "    }\n",
       "\n",
       "    .dataframe tbody tr th {\n",
       "        vertical-align: top;\n",
       "    }\n",
       "\n",
       "    .dataframe thead th {\n",
       "        text-align: right;\n",
       "    }\n",
       "</style>\n",
       "<table border=\"1\" class=\"dataframe\">\n",
       "  <thead>\n",
       "    <tr style=\"text-align: right;\">\n",
       "      <th></th>\n",
       "      <th>AvgHourlyTemp</th>\n",
       "      <th>SalesRevenue</th>\n",
       "    </tr>\n",
       "  </thead>\n",
       "  <tbody>\n",
       "    <tr>\n",
       "      <th>count</th>\n",
       "      <td>125792.000000</td>\n",
       "      <td>125792.000000</td>\n",
       "    </tr>\n",
       "    <tr>\n",
       "      <th>mean</th>\n",
       "      <td>68.548713</td>\n",
       "      <td>118.199876</td>\n",
       "    </tr>\n",
       "    <tr>\n",
       "      <th>std</th>\n",
       "      <td>15.336778</td>\n",
       "      <td>98.576510</td>\n",
       "    </tr>\n",
       "    <tr>\n",
       "      <th>min</th>\n",
       "      <td>5.850000</td>\n",
       "      <td>-822.620000</td>\n",
       "    </tr>\n",
       "    <tr>\n",
       "      <th>25%</th>\n",
       "      <td>57.900000</td>\n",
       "      <td>56.400000</td>\n",
       "    </tr>\n",
       "    <tr>\n",
       "      <th>50%</th>\n",
       "      <td>70.955000</td>\n",
       "      <td>97.680000</td>\n",
       "    </tr>\n",
       "    <tr>\n",
       "      <th>75%</th>\n",
       "      <td>80.840000</td>\n",
       "      <td>153.272500</td>\n",
       "    </tr>\n",
       "    <tr>\n",
       "      <th>max</th>\n",
       "      <td>100.620000</td>\n",
       "      <td>3818.510000</td>\n",
       "    </tr>\n",
       "  </tbody>\n",
       "</table>\n",
       "</div>"
      ],
      "text/plain": [
       "       AvgHourlyTemp   SalesRevenue\n",
       "count  125792.000000  125792.000000\n",
       "mean       68.548713     118.199876\n",
       "std        15.336778      98.576510\n",
       "min         5.850000    -822.620000\n",
       "25%        57.900000      56.400000\n",
       "50%        70.955000      97.680000\n",
       "75%        80.840000     153.272500\n",
       "max       100.620000    3818.510000"
      ]
     },
     "execution_count": 57,
     "metadata": {},
     "output_type": "execute_result"
    }
   ],
   "source": [
    "# Understanding the data\n",
    "df.describe()"
   ]
  },
  {
   "cell_type": "code",
   "execution_count": 58,
   "metadata": {},
   "outputs": [
    {
     "name": "stdout",
     "output_type": "stream",
     "text": [
      "0\n",
      "Store_ID              0\n",
      "Fiscal_Qtr            0\n",
      "DateStringYYYYMMDD    0\n",
      "Fiscal_dayofWk        0\n",
      "Daypart               0\n",
      "HourlyWeather         0\n",
      "Hour                  0\n",
      "AvgHourlyTemp         0\n",
      "SalesRevenue          0\n",
      "dtype: int64\n"
     ]
    }
   ],
   "source": [
    "# Check for missing values in rows and columns\n",
    "print(df.isnull().values.sum())\n",
    "print(df.isnull().sum())"
   ]
  },
  {
   "cell_type": "code",
   "execution_count": 59,
   "metadata": {},
   "outputs": [
    {
     "name": "stdout",
     "output_type": "stream",
     "text": [
      "distinct categories for Dayparts is:  5\n",
      "distinct categories for HourlyWeather is:  9\n",
      "number of stores:  17    18735\n",
      "16    17519\n",
      "2     15698\n",
      "18    14976\n",
      "11    14917\n",
      "20    14108\n",
      "21     7109\n",
      "22     6193\n",
      "31     5592\n",
      "34     4320\n",
      "36     3095\n",
      "38     2710\n",
      "23      502\n",
      "32      318\n",
      "Name: Store_ID, dtype: int64\n"
     ]
    },
    {
     "data": {
      "text/plain": [
       "Dinner        34549\n",
       "Breakfast     32701\n",
       "Lunch         28124\n",
       "Afternoon     28094\n",
       "Late Night     2324\n",
       "Name: Daypart, dtype: int64"
      ]
     },
     "execution_count": 59,
     "metadata": {},
     "output_type": "execute_result"
    }
   ],
   "source": [
    "# Understanding our categorical variable\n",
    "print(\"distinct categories for Dayparts is: \", df['Daypart'].value_counts().count())\n",
    "print(\"distinct categories for HourlyWeather is: \", df['HourlyWeather'].value_counts().count())\n",
    "print(\"number of stores: \", df['Store_ID'].value_counts())\n",
    "df['Daypart'].value_counts()"
   ]
  },
  {
   "cell_type": "code",
   "execution_count": 60,
   "metadata": {},
   "outputs": [],
   "source": [
    "## Replace the categorical values with numbers\n",
    "replace_map1 = {'Daypart': {'Breakfast': 1, 'Afternoon': 2, 'Lunch': 3, 'Late Night': 4,\n",
    "                                  'Dinner': 5}}\n",
    "replace_map2 = {'HourlyWeather': {'clear-day': 1, 'partly-cloudy-day': 2, 'rain': 3, 'clear-night': 4,\n",
    "                                  'partly-cloudy-night': 5, 'cloudy':6, 'fog': 7, 'wind':8, 'snow':9}}\n"
   ]
  },
  {
   "cell_type": "code",
   "execution_count": 61,
   "metadata": {},
   "outputs": [],
   "source": [
    "df2 = df.copy()"
   ]
  },
  {
   "cell_type": "code",
   "execution_count": 62,
   "metadata": {},
   "outputs": [],
   "source": [
    "df2.replace(replace_map1, inplace=True)\n",
    "df2.replace(replace_map2, inplace=True)"
   ]
  },
  {
   "cell_type": "code",
   "execution_count": 63,
   "metadata": {},
   "outputs": [
    {
     "data": {
      "text/html": [
       "<div>\n",
       "<style scoped>\n",
       "    .dataframe tbody tr th:only-of-type {\n",
       "        vertical-align: middle;\n",
       "    }\n",
       "\n",
       "    .dataframe tbody tr th {\n",
       "        vertical-align: top;\n",
       "    }\n",
       "\n",
       "    .dataframe thead th {\n",
       "        text-align: right;\n",
       "    }\n",
       "</style>\n",
       "<table border=\"1\" class=\"dataframe\">\n",
       "  <thead>\n",
       "    <tr style=\"text-align: right;\">\n",
       "      <th></th>\n",
       "      <th>Store_ID</th>\n",
       "      <th>Fiscal_Qtr</th>\n",
       "      <th>DateStringYYYYMMDD</th>\n",
       "      <th>Fiscal_dayofWk</th>\n",
       "      <th>Daypart</th>\n",
       "      <th>HourlyWeather</th>\n",
       "      <th>Hour</th>\n",
       "      <th>AvgHourlyTemp</th>\n",
       "      <th>SalesRevenue</th>\n",
       "    </tr>\n",
       "  </thead>\n",
       "  <tbody>\n",
       "    <tr>\n",
       "      <th>0</th>\n",
       "      <td>2</td>\n",
       "      <td>3</td>\n",
       "      <td>20170714</td>\n",
       "      <td>5</td>\n",
       "      <td>2</td>\n",
       "      <td>3</td>\n",
       "      <td>16</td>\n",
       "      <td>92.43</td>\n",
       "      <td>193.44</td>\n",
       "    </tr>\n",
       "    <tr>\n",
       "      <th>1</th>\n",
       "      <td>2</td>\n",
       "      <td>3</td>\n",
       "      <td>20170714</td>\n",
       "      <td>5</td>\n",
       "      <td>2</td>\n",
       "      <td>3</td>\n",
       "      <td>14</td>\n",
       "      <td>89.56</td>\n",
       "      <td>323.84</td>\n",
       "    </tr>\n",
       "    <tr>\n",
       "      <th>2</th>\n",
       "      <td>2</td>\n",
       "      <td>3</td>\n",
       "      <td>20170714</td>\n",
       "      <td>5</td>\n",
       "      <td>2</td>\n",
       "      <td>3</td>\n",
       "      <td>15</td>\n",
       "      <td>90.90</td>\n",
       "      <td>126.09</td>\n",
       "    </tr>\n",
       "    <tr>\n",
       "      <th>3</th>\n",
       "      <td>2</td>\n",
       "      <td>3</td>\n",
       "      <td>20170714</td>\n",
       "      <td>5</td>\n",
       "      <td>1</td>\n",
       "      <td>7</td>\n",
       "      <td>8</td>\n",
       "      <td>77.35</td>\n",
       "      <td>154.54</td>\n",
       "    </tr>\n",
       "    <tr>\n",
       "      <th>4</th>\n",
       "      <td>2</td>\n",
       "      <td>3</td>\n",
       "      <td>20170714</td>\n",
       "      <td>5</td>\n",
       "      <td>1</td>\n",
       "      <td>2</td>\n",
       "      <td>9</td>\n",
       "      <td>79.06</td>\n",
       "      <td>89.60</td>\n",
       "    </tr>\n",
       "  </tbody>\n",
       "</table>\n",
       "</div>"
      ],
      "text/plain": [
       "  Store_ID Fiscal_Qtr DateStringYYYYMMDD Fiscal_dayofWk  Daypart  \\\n",
       "0        2          3           20170714              5        2   \n",
       "1        2          3           20170714              5        2   \n",
       "2        2          3           20170714              5        2   \n",
       "3        2          3           20170714              5        1   \n",
       "4        2          3           20170714              5        1   \n",
       "\n",
       "   HourlyWeather Hour  AvgHourlyTemp  SalesRevenue  \n",
       "0              3   16          92.43        193.44  \n",
       "1              3   14          89.56        323.84  \n",
       "2              3   15          90.90        126.09  \n",
       "3              7    8          77.35        154.54  \n",
       "4              2    9          79.06         89.60  "
      ]
     },
     "execution_count": 63,
     "metadata": {},
     "output_type": "execute_result"
    }
   ],
   "source": [
    "df2.head()"
   ]
  },
  {
   "cell_type": "code",
   "execution_count": 64,
   "metadata": {},
   "outputs": [],
   "source": [
    "df2['Daypart'] = df2['Daypart'].astype('category')\n",
    "df2['HourlyWeather'] = df2['HourlyWeather'].astype('category')"
   ]
  },
  {
   "cell_type": "code",
   "execution_count": 65,
   "metadata": {},
   "outputs": [
    {
     "name": "stdout",
     "output_type": "stream",
     "text": [
      "<class 'pandas.core.frame.DataFrame'>\n",
      "RangeIndex: 125792 entries, 0 to 125791\n",
      "Data columns (total 9 columns):\n",
      "Store_ID              125792 non-null category\n",
      "Fiscal_Qtr            125792 non-null category\n",
      "DateStringYYYYMMDD    125792 non-null category\n",
      "Fiscal_dayofWk        125792 non-null category\n",
      "Daypart               125792 non-null category\n",
      "HourlyWeather         125792 non-null category\n",
      "Hour                  125792 non-null category\n",
      "AvgHourlyTemp         125792 non-null float64\n",
      "SalesRevenue          125792 non-null float64\n",
      "dtypes: category(7), float64(2)\n",
      "memory usage: 2.9 MB\n"
     ]
    }
   ],
   "source": [
    "df2.info()"
   ]
  },
  {
   "cell_type": "code",
   "execution_count": 66,
   "metadata": {},
   "outputs": [],
   "source": [
    "# Y-var\n",
    "y_var = np.array(df2['SalesRevenue'])\n",
    "# x-var, axis =1 just refers to the columns\n",
    "x_var = df2.drop('SalesRevenue', axis=1)\n",
    "# x-var column names\n",
    "column_names = list(x_var.columns)\n",
    "# need x-vars it in np array\n",
    "x_var = np.array(x_var)"
   ]
  },
  {
   "cell_type": "code",
   "execution_count": 67,
   "metadata": {},
   "outputs": [
    {
     "name": "stdout",
     "output_type": "stream",
     "text": [
      "[193.44 323.84 126.09 154.54  89.6 ]\n",
      "[[2 3 20170714 5 2 3 16 92.43]\n",
      " [2 3 20170714 5 2 3 14 89.56]\n",
      " [2 3 20170714 5 2 3 15 90.9]\n",
      " [2 3 20170714 5 1 7 8 77.35]\n",
      " [2 3 20170714 5 1 2 9 79.06]]\n",
      "['Store_ID', 'Fiscal_Qtr', 'DateStringYYYYMMDD', 'Fiscal_dayofWk', 'Daypart', 'HourlyWeather', 'Hour', 'AvgHourlyTemp']\n"
     ]
    }
   ],
   "source": [
    "print(y_var[:5])\n",
    "print(x_var[:5])\n",
    "print(column_names)"
   ]
  },
  {
   "cell_type": "code",
   "execution_count": 68,
   "metadata": {},
   "outputs": [],
   "source": [
    "# Training and test data\n",
    "import scipy\n",
    "from sklearn.model_selection import train_test_split\n",
    "\n",
    "x_train, x_test, y_train, y_test = train_test_split(x_var, y_var, test_size = 0.3, random_state = 42)"
   ]
  },
  {
   "cell_type": "code",
   "execution_count": 69,
   "metadata": {},
   "outputs": [
    {
     "name": "stdout",
     "output_type": "stream",
     "text": [
      "(88054, 8)\n",
      "(37738, 8)\n",
      "(88054,)\n",
      "(37738,)\n"
     ]
    }
   ],
   "source": [
    "print(x_train.shape)\n",
    "print(x_test.shape)\n",
    "print(y_train.shape)\n",
    "print(y_test.shape)"
   ]
  },
  {
   "cell_type": "code",
   "execution_count": 70,
   "metadata": {},
   "outputs": [],
   "source": [
    "# Get a "
   ]
  },
  {
   "cell_type": "code",
   "execution_count": 71,
   "metadata": {},
   "outputs": [
    {
     "name": "stderr",
     "output_type": "stream",
     "text": [
      "/Users/kunlelawal/miniconda3/lib/python3.6/site-packages/sklearn/ensemble/weight_boosting.py:29: DeprecationWarning: numpy.core.umath_tests is an internal NumPy module and should not be imported. It will be removed in a future NumPy release.\n",
      "  from numpy.core.umath_tests import inner1d\n"
     ]
    },
    {
     "data": {
      "text/plain": [
       "RandomForestRegressor(bootstrap=True, criterion='mse', max_depth=None,\n",
       "           max_features='auto', max_leaf_nodes=None,\n",
       "           min_impurity_decrease=0.0, min_impurity_split=None,\n",
       "           min_samples_leaf=1, min_samples_split=2,\n",
       "           min_weight_fraction_leaf=0.0, n_estimators=50, n_jobs=1,\n",
       "           oob_score=False, random_state=42, verbose=0, warm_start=False)"
      ]
     },
     "execution_count": 71,
     "metadata": {},
     "output_type": "execute_result"
    }
   ],
   "source": [
    "# Now training the model\n",
    "from sklearn.ensemble import RandomForestRegressor\n",
    "# Start off with 50 trees, random_state = seed # --> want same situation\n",
    "rf = RandomForestRegressor(n_estimators = 50, random_state = 42)\n",
    "# Training model -- yaaay!\n",
    "rf.fit(x_train, y_train)"
   ]
  },
  {
   "cell_type": "code",
   "execution_count": 72,
   "metadata": {},
   "outputs": [
    {
     "name": "stdout",
     "output_type": "stream",
     "text": [
      "0.9395502596195551\n",
      "0.6132090858077978\n"
     ]
    }
   ],
   "source": [
    "# Checking model accuracy on test data\n",
    "print(rf.score(x_train, y_train))\n",
    "print(rf.score(x_test, y_test))"
   ]
  },
  {
   "cell_type": "code",
   "execution_count": 73,
   "metadata": {},
   "outputs": [
    {
     "name": "stdout",
     "output_type": "stream",
     "text": [
      "Variable: Hour                 Importance: 0.28\n",
      "Variable: DateStringYYYYMMDD   Importance: 0.2\n",
      "Variable: Store_ID             Importance: 0.18\n",
      "Variable: AvgHourlyTemp        Importance: 0.18\n",
      "Variable: Fiscal_dayofWk       Importance: 0.08\n",
      "Variable: Daypart              Importance: 0.03\n",
      "Variable: HourlyWeather        Importance: 0.03\n",
      "Variable: Fiscal_Qtr           Importance: 0.02\n"
     ]
    }
   ],
   "source": [
    "# Check variable importance\n",
    "importances = list(rf.feature_importances_)\n",
    "feature_importances = [(feature, round(importance, 2)) for feature, importance in zip(column_names, importances)]\n",
    "\n",
    "feature_importances = sorted(feature_importances, key = lambda x: x[1], reverse = True)\n",
    "\n",
    "[print('Variable: {:20} Importance: {}'.format(*pair)) for pair in feature_importances];"
   ]
  },
  {
   "cell_type": "code",
   "execution_count": 74,
   "metadata": {},
   "outputs": [
    {
     "data": {
      "image/png": "[encoded data removed]",
      "text/plain": [
       "<Figure size 432x288 with 1 Axes>"
      ]
     },
     "metadata": {},
     "output_type": "display_data"
    }
   ],
   "source": [
    "import matplotlib.pyplot as plt\n",
    "%matplotlib inline\n",
    "# Set the style\n",
    "plt.style.use('fivethirtyeight')\n",
    "# list of x locations for plotting\n",
    "x_values = list(range(len(importances)))\n",
    "# Make a bar chart\n",
    "plt.bar(x_values, importances, orientation = 'vertical')\n",
    "# Tick labels for x axis\n",
    "plt.xticks(x_values, column_names, rotation='vertical')\n",
    "# Axis labels and title\n",
    "plt.ylabel('Importance'); plt.xlabel('Predictor'); plt.title('Top Predictors of Hourly Sales');"
   ]
  },
  {
   "cell_type": "code",
   "execution_count": 75,
   "metadata": {},
   "outputs": [
    {
     "data": {
      "text/plain": [
       "array([17, 4, 20151224, 4, 2, 2, 15, 68.78], dtype=object)"
      ]
     },
     "execution_count": 75,
     "metadata": {},
     "output_type": "execute_result"
    }
   ],
   "source": [
    "x_test[0]"
   ]
  },
  {
   "cell_type": "code",
   "execution_count": 76,
   "metadata": {},
   "outputs": [],
   "source": [
    "# Getting data to predict for\n",
    "data = pd.read_csv(\"predictionData.csv\")\n",
    "data = np.array(data)\n"
   ]
  },
  {
   "cell_type": "code",
   "execution_count": 79,
   "metadata": {},
   "outputs": [],
   "source": [
    "# Test how good model is\n",
    "predictions = rf.predict(data)\n",
    "predictions_xVar = rf.predict(x_test)\n",
    "\n"
   ]
  },
  {
   "cell_type": "code",
   "execution_count": 80,
   "metadata": {},
   "outputs": [
    {
     "name": "stdout",
     "output_type": "stream",
     "text": [
      "The total sales for all 14 stores on 2017-07-15 during hour 12, \n",
      "assuming a clear day and average temperature of 86 degrees is:  3744.49\n"
     ]
    }
   ],
   "source": [
    "np.mean(predictions)\n",
    "print(\"\"\"The total sales for all 14 stores on 2017-07-15 during hour 12, \n",
    "assuming a clear day and average temperature of 86 degrees is: \"\"\", np.round(np.sum(predictions),2))"
   ]
  },
  {
   "cell_type": "code",
   "execution_count": null,
   "metadata": {},
   "outputs": [],
   "source": []
  }
 ],
 "metadata": {
  "kernelspec": {
   "display_name": "Python 3",
   "language": "python",
   "name": "python3"
  },
  "language_info": {
   "codemirror_mode": {
    "name": "ipython",
    "version": 3
   },
   "file_extension": ".py",
   "mimetype": "text/x-python",
   "name": "python",
   "nbconvert_exporter": "python",
   "pygments_lexer": "ipython3",
   "version": "3.6.6"
  }
 },
 "nbformat": 4,
 "nbformat_minor": 2
}
